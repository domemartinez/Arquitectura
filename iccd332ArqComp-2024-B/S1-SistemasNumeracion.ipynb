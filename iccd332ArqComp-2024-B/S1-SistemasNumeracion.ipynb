{
  "cells": [
    {
      "cell_type": "markdown",
      "metadata": {
        "id": "view-in-github",
        "colab_type": "text"
      },
      "source": [
        "<a href=\"https://colab.research.google.com/github/domemartinez/Arquitectura/blob/main/iccd332ArqComp-2024-B/S1-SistemasNumeracion.ipynb\" target=\"_parent\"><img src=\"https://colab.research.google.com/assets/colab-badge.svg\" alt=\"Open In Colab\"/></a>"
      ]
    },
    {
      "cell_type": "markdown",
      "id": "c3fc2f81-f4a1-4e05-be06-9ee2b0ee5eab",
      "metadata": {
        "editable": true,
        "id": "c3fc2f81-f4a1-4e05-be06-9ee2b0ee5eab",
        "tags": []
      },
      "source": [
        "# ICCD332 - Arquitectura de Computadores\n",
        "Fecha: 2024-10-07\n",
        "\n",
        "Profesor: Lenin G. Falconí\n",
        "\n",
        "Horario: LU 7-9 y SA 7-9"
      ]
    },
    {
      "cell_type": "markdown",
      "id": "09789f16",
      "metadata": {
        "editable": true,
        "id": "09789f16",
        "tags": []
      },
      "source": [
        "## Sistemas de Numeración\n",
        "* Un número se puede representar como una cadena de dígitos $b_{n-1} \\dots b_2b_1b_0 \\cdot b_{-1}b_{-2}\\dots b_{m}$\n",
        "* La posición relativa $i$ del dígito posee un **peso** $r^i$, donde $r$ es la **base** del sistema de numeración\n",
        "* El alfabeto de dígitos posibles en un sistema de base $r$ es $0 \\leq b_i\\leq r-1$\n",
        "* Por tanto un número $N$ en la base $r$, notado como $N_r$ se representa como:\n",
        "\n",
        "$N_r = \\sum\\limits_{i=-m}^{n-1} b_i\\times r^i$"
      ]
    },
    {
      "cell_type": "markdown",
      "id": "26b10704",
      "metadata": {
        "editable": true,
        "id": "26b10704",
        "tags": []
      },
      "source": [
        "## Tipos de Sistemas de Numeración\n",
        "\n",
        "| Denominación | base |\n",
        "|---    |---|\n",
        "|Decimal | 10 |\n",
        "|Octal | 8 |\n",
        "|Binario | 2 |\n",
        "|Hexadecimal| 16 |"
      ]
    },
    {
      "cell_type": "markdown",
      "id": "64398fce",
      "metadata": {
        "editable": true,
        "id": "64398fce",
        "tags": []
      },
      "source": [
        "## Ejercicio 1 - Conversión de Número en base $r$ a decimal -\n",
        "\n",
        "* Escriba un número en base 7\n",
        "* Escriba un número en base 4\n",
        "* ¿Qué valor sería el correspondiente en decimal?"
      ]
    },
    {
      "cell_type": "code",
      "execution_count": null,
      "id": "edbb90e4-e022-4db1-a987-bcbc7c06df6d",
      "metadata": {
        "editable": true,
        "id": "edbb90e4-e022-4db1-a987-bcbc7c06df6d",
        "outputId": "83439fbc-9893-4373-ac5a-ef0ceb9c0185",
        "tags": []
      },
      "outputs": [
        {
          "name": "stdout",
          "output_type": "stream",
          "text": [
            "64.6 en base 7 equivale a:\n",
            "46.857142857142854\n",
            "4021.2 en base 5 equivale a\n",
            "511.4\n"
          ]
        }
      ],
      "source": [
        "# 314.2 en base 7\n",
        "print(\"64.6 en base 7 equivale a:\")\n",
        "print(6*7**1+4*7**0+6*7**(-1))\n",
        "# 4021.2 en base 5\n",
        "print(\"4021.2 en base 5 equivale a\")\n",
        "print(4*5**3+2*5**1+1*5**0+2*5**(-1))\n"
      ]
    },
    {
      "cell_type": "markdown",
      "id": "34634cfd",
      "metadata": {
        "editable": true,
        "id": "34634cfd",
        "tags": []
      },
      "source": [
        "## Sistema de Numeración Decimal\n",
        "\n",
        "* La base del sistema es $r=10$\n",
        "* Los dígitos son $0\\leq b_i\\leq 9$ y $b_i \\in \\mathbb{Z}^+$\n",
        "\n",
        "$123.45 = 1\\times 10^2+2\\times 10^1+3\\times 10^0+4\\times 10^{-1} + 5\\times 10^{-1}$"
      ]
    },
    {
      "cell_type": "markdown",
      "id": "039f1d54",
      "metadata": {
        "editable": true,
        "id": "039f1d54",
        "tags": []
      },
      "source": [
        "## Sistema de Numeración Binario\n",
        "\n",
        "* La base del sistema es $r=2$\n",
        "* Los dígitos son $0\\leq b_i\\leq 1$ y $b_i \\in \\mathbb{Z}^+$\n",
        "* Los dígitos 1 y 0 en binario tienen el mismo valor en notación decimal i.e.\n",
        "\n",
        "$0_2 = 0_{10}$\n",
        "\n",
        "$1_2 = 1_{10}$\n",
        "\n",
        "Por tanto:\n",
        "\n",
        "$1101.01_2 = 1\\times 2^3+1\\times 2^2+0\\times 2^1+1\\times 2^0+0\\times 2^{-1}+1\\times 2^{-2}$"
      ]
    },
    {
      "cell_type": "markdown",
      "id": "64292ac0",
      "metadata": {
        "editable": true,
        "id": "64292ac0",
        "tags": []
      },
      "source": [
        "## Conversión Sistema de base $r$ a Decimal $N_r \\rightarrow X_{10}$\n",
        "\n",
        "Sea $N_r \\rightarrow X_{10}$ la conversión de un número en base $r$ a su equivalente Decimal. En este caso, se aplica:\n",
        "\n",
        "$X_{10} = \\sum\\limits_{i} b_i\\times r^i$\n",
        "\n",
        "### Ejercicio 2 $N_r \\rightarrow X_{10}$:\n",
        "\n",
        "* $(4021.2)_5$\n",
        "* $(127.4)_8$\n",
        "* $(110101)_2$\n",
        "* $(B65F)_{16}$"
      ]
    },
    {
      "cell_type": "code",
      "execution_count": null,
      "id": "9a6240f6-ce37-4c8c-b32a-8a3fb1386b7c",
      "metadata": {
        "editable": true,
        "id": "9a6240f6-ce37-4c8c-b32a-8a3fb1386b7c",
        "outputId": "2bc2cb8b-93e2-408c-a4bc-a0dc09cdb812",
        "tags": []
      },
      "outputs": [
        {
          "data": {
            "text/plain": [
              "511.4"
            ]
          },
          "execution_count": 1,
          "metadata": {},
          "output_type": "execute_result"
        }
      ],
      "source": [
        "# 4021.2 en base 5 a base 10\n",
        "4*5**3+2*5**1+1*5**0+2*5**-1"
      ]
    },
    {
      "cell_type": "code",
      "source": [
        "# 127.4 en base 8 a base 10\n",
        "1*8**2+2*8**1+7*8**0+4*8**-1"
      ],
      "metadata": {
        "colab": {
          "base_uri": "https://localhost:8080/"
        },
        "id": "096b84BMtZDr",
        "outputId": "794c3614-150f-468c-dd8a-9f08a7a55c25"
      },
      "id": "096b84BMtZDr",
      "execution_count": 144,
      "outputs": [
        {
          "output_type": "execute_result",
          "data": {
            "text/plain": [
              "87.5"
            ]
          },
          "metadata": {},
          "execution_count": 144
        }
      ]
    },
    {
      "cell_type": "code",
      "source": [
        "# 110101 en base 2 a base 10\n",
        "1*2**5+1*2**4+0*2**3+1*2**2+0*2**1+1*2**0"
      ],
      "metadata": {
        "colab": {
          "base_uri": "https://localhost:8080/"
        },
        "id": "Gmf16_b5tsrJ",
        "outputId": "62da5b0f-edee-4d91-b801-2d5d3d472273"
      },
      "id": "Gmf16_b5tsrJ",
      "execution_count": 145,
      "outputs": [
        {
          "output_type": "execute_result",
          "data": {
            "text/plain": [
              "53"
            ]
          },
          "metadata": {},
          "execution_count": 145
        }
      ]
    },
    {
      "cell_type": "code",
      "source": [
        "# B65F en base 16 a base 10\n",
        "11*16**3+6*16**2+5*16**1+15*16**0"
      ],
      "metadata": {
        "colab": {
          "base_uri": "https://localhost:8080/"
        },
        "id": "ZMKOSDx_tsTN",
        "outputId": "c85fb8f0-6141-441b-bbc8-790553a130cd"
      },
      "id": "ZMKOSDx_tsTN",
      "execution_count": 146,
      "outputs": [
        {
          "output_type": "execute_result",
          "data": {
            "text/plain": [
              "46687"
            ]
          },
          "metadata": {},
          "execution_count": 146
        }
      ]
    },
    {
      "cell_type": "markdown",
      "id": "6d41c1a2",
      "metadata": {
        "editable": true,
        "id": "6d41c1a2",
        "tags": []
      },
      "source": [
        "## Conversión Decimal a Binario $N_{10}\\rightarrow X_{2}$\n",
        "\n",
        "Dado un numero decimal que dispone tanto de parte entera como fraccionaria, se convierten por separado la **parte entera** y la **parte fraccionaria**\n",
        "\n",
        "### Parte Entera\n",
        "\n",
        "* Sea $X_2 = b_{m-1}b_{m-2}\\dots b_2b_1b_0\\cdot b_{-1}b_{-2}\\dots$ el número binario buscado\n",
        "* Sea $N$ el número decimal dado\n",
        "* La parte entera es:$\\lfloor b_{m-1}b_{m-2}\\dots b_2b_1b_0 \\rfloor = b_{m-1}\\times 2^{m-1}+ b_{m-2}\\times 2^{m-2}+ \\dots b_2 \\times 2^{2}+ b_1 \\times 2^{1}+ b_0 \\times 2^{0}$\n",
        "* Dividir $N$ por la base 2 obtiene un cociente $N_1$ y un residuo $R_0$ i.e. $N=2\\times N_1+R_0$\n",
        "* Repita el proceso anterior para cada cociente y guarde los residuos hasta alcanzar un cociente de 0\n",
        "* El conjunto de residuos en orden inverso es el número buscado\n",
        "\n",
        "### Demostración\n",
        "\n",
        "$N = 2\\times N_1 + R_0$\n",
        "\n",
        "$N_1 = 2\\times N_2 + R_1$\n",
        "\n",
        "$N_2 = 2\\times N_3 + R_2$\n",
        "\n",
        "$\\dots$\n",
        "\n",
        "$N_{m-1} = 2\\times N_{m} + R_{m-1}$\n",
        "\n",
        "Entonces $N$ es:\n",
        "\n",
        "$N = 2\\times (2\\times (\\dots+R_2) + R_1) + R_0$\n",
        "\n",
        "$N = 2^mN_m+2^{m-1}R_{m-1}+\\dots+2^2R_2 + 2^1R_1 + R_0$\n",
        "\n",
        "Pero $N_m=0$ y $R_{m-1}=1$"
      ]
    },
    {
      "cell_type": "markdown",
      "id": "69e5bb83",
      "metadata": {
        "editable": true,
        "id": "69e5bb83",
        "tags": []
      },
      "source": [
        "### Ejercicio 3 - Conversión de $N_{10} \\rightarrow X_{r}$\n",
        "\n",
        "1. Convertir 41 a binario\n",
        "2. Convertir 153 a octal\n",
        "2. Convertir 256 a hexadecimal\n"
      ]
    },
    {
      "cell_type": "code",
      "execution_count": null,
      "id": "b28667dc-145b-446f-904c-af125d0c2d8e",
      "metadata": {
        "editable": true,
        "id": "b28667dc-145b-446f-904c-af125d0c2d8e",
        "outputId": "87daa89f-cd3d-49d1-bc43-7e2ffe00daf3",
        "tags": []
      },
      "outputs": [
        {
          "name": "stdout",
          "output_type": "stream",
          "text": [
            "20 1\n",
            "10 0\n",
            "5 0\n",
            "2 1\n",
            "1 0\n",
            "0 1\n"
          ]
        },
        {
          "data": {
            "text/plain": [
              "True"
            ]
          },
          "execution_count": 10,
          "metadata": {},
          "output_type": "execute_result"
        }
      ],
      "source": [
        "# 41 a binario\n",
        "print(41//2, 41%2)\n",
        "print(20//2, 20%2)\n",
        "print(10//2, 10%2)\n",
        "print(5//2, 5%2)\n",
        "print(2//2, 2%2)\n",
        "print(1//2, 1%2)\n",
        "resp = '0b101001'\n",
        "resp==bin(41)"
      ]
    },
    {
      "cell_type": "code",
      "source": [
        "# 153 a octal\n",
        "print(153//8, 153%8)\n",
        "print(19//8, 19%8)\n",
        "print(2//8, 2%8)\n",
        "resp = '0o231'\n",
        "resp==oct(153)"
      ],
      "metadata": {
        "colab": {
          "base_uri": "https://localhost:8080/"
        },
        "id": "X4cybmZHuGXx",
        "outputId": "619e2b8a-50a6-4cb0-8f27-48996c5a9df3"
      },
      "id": "X4cybmZHuGXx",
      "execution_count": 147,
      "outputs": [
        {
          "output_type": "stream",
          "name": "stdout",
          "text": [
            "19 1\n",
            "2 3\n",
            "0 2\n"
          ]
        },
        {
          "output_type": "execute_result",
          "data": {
            "text/plain": [
              "True"
            ]
          },
          "metadata": {},
          "execution_count": 147
        }
      ]
    },
    {
      "cell_type": "code",
      "source": [
        "# 256 a hexadecimal\n",
        "print(256//16, 256%16)\n",
        "print(16//16, 16%16)\n",
        "resp = '0x100'\n",
        "resp==hex(256)"
      ],
      "metadata": {
        "colab": {
          "base_uri": "https://localhost:8080/"
        },
        "id": "7l_iUmYcuHK6",
        "outputId": "4b068fc9-b197-4d83-ac13-b40a37daef58"
      },
      "id": "7l_iUmYcuHK6",
      "execution_count": 148,
      "outputs": [
        {
          "output_type": "stream",
          "name": "stdout",
          "text": [
            "16 0\n",
            "1 0\n"
          ]
        },
        {
          "output_type": "execute_result",
          "data": {
            "text/plain": [
              "True"
            ]
          },
          "metadata": {},
          "execution_count": 148
        }
      ]
    },
    {
      "cell_type": "markdown",
      "id": "1c182b24",
      "metadata": {
        "editable": true,
        "id": "1c182b24",
        "tags": []
      },
      "source": [
        "### Parte Fraccionaria\n",
        "\n",
        "Sea $F = 0\\cdot b_{-1}b_{-2}\\dots$ la parte fraccionaria buscada en binario. Entonces\n",
        "\n",
        "$0\\cdot b_{-1}b_{-2}\\dots = b_{-1}\\times 2^{-1}+b_{-2}\\times 2^{-2}+\\dots$\n",
        "\n",
        "Se observa que la parte fraccionaria puede obtener factor común\n",
        "\n",
        "$2^{-1}\\times (b_{-1} +2^{-1}\\times (b_{-2}+2^{-1}\\times(b_{-3}+\\dots) \\dots))$\n",
        "\n",
        "Si se multiplica por la base 2, entonces\n",
        "\n",
        "$2 \\times F = b_{-1} +2^{-1}\\times (b_{-2}+2^{-1}\\times(b_{-3}+\\dots) \\dots)$\n",
        "\n",
        "Que se puede escribir como\n",
        "\n",
        "$2 \\times F = b_{-1} +F_1$\n",
        "\n",
        "con $F_1 = 2^{-1}\\times (b_{-2}+2^{-1}\\times(b_{-3}+\\dots) \\dots)$\n",
        "\n",
        "Entonces:\n",
        "\n",
        "1. Multiplique la parte fraccionaria por la base y tome la parte entera\n",
        "2. Repita 1 con la nueva parte fraccionaria hasta obtener 0 o la precisión deseada\n",
        "3. El valor binario deseado es el conjunto de partes enteras obtenidos\n"
      ]
    },
    {
      "cell_type": "markdown",
      "id": "43c55f28",
      "metadata": {
        "editable": true,
        "id": "43c55f28",
        "tags": []
      },
      "source": [
        "### Ejercicio 4 - Conversión de Parte Fraccionaria -\n",
        "\n",
        "1. $(0.6875)_{10} \\rightarrow X_2$\n",
        "1. $(0.513)_{10} \\rightarrow X_8$"
      ]
    },
    {
      "cell_type": "code",
      "source": [
        "# 0.6875 en base 10 a binario\n",
        "v1 = int(0.6875*2), 0.6875*2\n",
        "v2 = int(0.375*2), 0.375*2\n",
        "v3= int(0.75*2), 0.75*2\n",
        "v1,v2,v3"
      ],
      "metadata": {
        "colab": {
          "base_uri": "https://localhost:8080/"
        },
        "id": "qHQwzjOmuNCe",
        "outputId": "3d32a5a5-0ec6-451b-f10a-03298f5e7162"
      },
      "id": "qHQwzjOmuNCe",
      "execution_count": 149,
      "outputs": [
        {
          "output_type": "execute_result",
          "data": {
            "text/plain": [
              "((1, 1.375), (0, 0.75), (1, 1.5))"
            ]
          },
          "metadata": {},
          "execution_count": 149
        }
      ]
    },
    {
      "cell_type": "code",
      "execution_count": 150,
      "id": "b7839e7d-9a14-4f52-8a2b-a039a5704544",
      "metadata": {
        "editable": true,
        "id": "b7839e7d-9a14-4f52-8a2b-a039a5704544",
        "outputId": "6150f0f1-1b59-4094-a5bc-7649a64a7313",
        "tags": [],
        "colab": {
          "base_uri": "https://localhost:8080/"
        }
      },
      "outputs": [
        {
          "output_type": "execute_result",
          "data": {
            "text/plain": [
              "((4, 4.104), (0, 0.832), (6, 6.656))"
            ]
          },
          "metadata": {},
          "execution_count": 150
        }
      ],
      "source": [
        "# 0.513 en base 10 a octal\n",
        "v1 = int(0.513*8), 0.513*8\n",
        "v2 = int(0.104*8), 0.104*8\n",
        "v3= int(0.832*8), 0.832*8\n",
        "v1,v2,v3"
      ]
    },
    {
      "cell_type": "markdown",
      "id": "8d3fbfd0",
      "metadata": {
        "editable": true,
        "id": "8d3fbfd0",
        "tags": []
      },
      "source": [
        "## Sistema Hexadecimal\n",
        "\n",
        "A continuación la tabla de valores de dígitos hexadecimales"
      ]
    },
    {
      "cell_type": "code",
      "execution_count": null,
      "id": "44fc0530",
      "metadata": {
        "editable": true,
        "id": "44fc0530",
        "outputId": "f75d45e6-8d3b-4229-9c15-be7dbd589d85",
        "tags": []
      },
      "outputs": [
        {
          "name": "stdout",
          "output_type": "stream",
          "text": [
            "decimal \tbinario \toctal \thexadecimal\n",
            "0 \t\t0b0 \t\t0o0\t\t0x0\n",
            "1 \t\t0b1 \t\t0o1\t\t0x1\n",
            "2 \t\t0b10 \t\t0o2\t\t0x2\n",
            "3 \t\t0b11 \t\t0o3\t\t0x3\n",
            "4 \t\t0b100 \t\t0o4\t\t0x4\n",
            "5 \t\t0b101 \t\t0o5\t\t0x5\n",
            "6 \t\t0b110 \t\t0o6\t\t0x6\n",
            "7 \t\t0b111 \t\t0o7\t\t0x7\n",
            "8 \t\t0b1000 \t\t0o10\t\t0x8\n",
            "9 \t\t0b1001 \t\t0o11\t\t0x9\n",
            "10 \t\t0b1010 \t\t0o12\t\t0xa\n",
            "11 \t\t0b1011 \t\t0o13\t\t0xb\n",
            "12 \t\t0b1100 \t\t0o14\t\t0xc\n",
            "13 \t\t0b1101 \t\t0o15\t\t0xd\n",
            "14 \t\t0b1110 \t\t0o16\t\t0xe\n",
            "15 \t\t0b1111 \t\t0o17\t\t0xf\n"
          ]
        }
      ],
      "source": [
        "print(f\"decimal \\tbinario \\toctal \\thexadecimal\")\n",
        "for i in range(16):\n",
        "    print(f\"{i} \\t\\t{bin(i)} \\t\\t{oct(i)}\\t\\t{hex(i)}\")"
      ]
    },
    {
      "cell_type": "markdown",
      "id": "b3e64bc6",
      "metadata": {
        "editable": true,
        "id": "b3e64bc6",
        "tags": []
      },
      "source": [
        "## Conversión Binario - Octal - Hexadecimal\n",
        "\n",
        "Para esta conversión es importante recordar:\n",
        "\n",
        "* $2^3 = 8$\n",
        "* $2^4 = 16$\n",
        "\n",
        "En consecuencia para convertir un número binario a octal o decimal, notado esto por $N_2 \\rightarrow X_8$ y $N_2 \\rightarrow X_{16}$, respectivamente, se ha de localizar el punto decimal y apartir de el se forman grupos de 3 (octal) o grupos de 4 (hexadecimal).\n",
        "\n",
        "Sea $N_2 = 10101001.10111$\n",
        "\n",
        "### Conversión a Octal\n",
        "\n",
        "1. Se hacen grupos de 3 digitos a partir de la coma en ambas direcciones y se completa el dígito faltante con 0\n",
        "\n",
        "$010\\,101\\, 001.101\\,110$\n",
        "\n",
        "2. A partir de la tabla de equivalencias realice la sustituciones de valores\n",
        "\n",
        "$2\\,5\\, 1.5\\,6$\n",
        "\n",
        "Entonces: $N_2 = 10101001.10111_2 \\rightarrow 251.56_8$\n",
        "\n"
      ]
    },
    {
      "cell_type": "markdown",
      "id": "45a8ccfb-bcea-4c53-ac55-b7ee26d2f904",
      "metadata": {
        "editable": true,
        "id": "45a8ccfb-bcea-4c53-ac55-b7ee26d2f904",
        "tags": []
      },
      "source": [
        "### Conversión a Hexadecimal\n",
        "\n",
        "1. Se hacen grupos de 4 digitos a partir de la coma en ambas direcciones y se completa el dígito faltante con 0\n",
        "\n",
        "$1010\\,1001.1011\\,1000$\n",
        "\n",
        "2. A partir de la tabla de equivalencias realice la sustituciones de valores\n",
        "\n",
        "$A9.B8$\n",
        "\n",
        "Entonces: $N_2 = 10101001.10111_2 \\rightarrow A9.B8_{16}$\n"
      ]
    },
    {
      "cell_type": "markdown",
      "id": "deab6767",
      "metadata": {
        "id": "deab6767"
      },
      "source": [
        "## Órdenes de Magnitud de datos\n",
        "\n",
        "* $2^0 \\rightarrow bit$\n",
        "* $2^3 \\rightarrow byte$\n",
        "* $2^{10} \\rightarrow Kilo$\n",
        "* $2^{20} \\rightarrow Mega$\n",
        "* $2^{30} \\rightarrow Giga$\n",
        "* $2^{40} \\rightarrow Tera$\n",
        "\n",
        "## Ejercicio 5\n",
        "¿Qué valores decimales corresponden los órdenes de magnitud antes indicados? Escribe un programa que devuelva los valores de las potencias de 2 antes indicadas.\n",
        "\n"
      ]
    },
    {
      "cell_type": "code",
      "execution_count": null,
      "id": "f6240d06-da8b-4edb-81f0-2db58468a057",
      "metadata": {
        "id": "f6240d06-da8b-4edb-81f0-2db58468a057"
      },
      "outputs": [],
      "source": [
        "def orden_magnitud2(potencias=[0,3,10,20,30,40], nombres=['bit', 'byte', 'Kilo', 'Mega', 'Giga', 'Tera']):\n",
        "    for i, potencia in enumerate(potencias):\n",
        "        print(f\"{nombres[i]} -> {2**potencia}\")\n"
      ]
    },
    {
      "cell_type": "code",
      "execution_count": null,
      "id": "0fb2f257",
      "metadata": {
        "editable": true,
        "id": "0fb2f257",
        "outputId": "71281554-b2ca-4f6d-b016-f41e97f7a428",
        "tags": []
      },
      "outputs": [
        {
          "name": "stdout",
          "output_type": "stream",
          "text": [
            "bit -> 1\n",
            "byte -> 8\n",
            "Kilo -> 1024\n",
            "Mega -> 1048576\n",
            "Giga -> 1073741824\n",
            "Tera -> 1099511627776\n"
          ]
        }
      ],
      "source": [
        "orden_magnitud2()"
      ]
    },
    {
      "cell_type": "markdown",
      "id": "71ff65c7",
      "metadata": {
        "editable": true,
        "id": "71ff65c7",
        "tags": []
      },
      "source": [
        "## Taller\n",
        "\n",
        "1. Construir una función en python que permita convertir un número en una base $r$ a su equivalente decimal\n",
        "2. Construir una función en python que permita convertir un número decimal a binario. Divida el problema en dos partes 1. parte entera y 2. parte fraccionaria.\n",
        "3. Generalice el programa anterior para convertir de decimal a un sistema con base $r$"
      ]
    },
    {
      "cell_type": "markdown",
      "source": [
        "# **1.- Construir una función en python que permita convertir un número en una base r  a su equivalente decimal**"
      ],
      "metadata": {
        "id": "gIq5AFEvunpR"
      },
      "id": "gIq5AFEvunpR"
    },
    {
      "cell_type": "code",
      "execution_count": 151,
      "id": "5883acaa",
      "metadata": {
        "editable": true,
        "id": "5883acaa",
        "outputId": "08b7c577-2cae-4aef-c51d-b61096e2d3d4",
        "tags": [],
        "colab": {
          "base_uri": "https://localhost:8080/"
        }
      },
      "outputs": [
        {
          "output_type": "stream",
          "name": "stdout",
          "text": [
            "14 en base 10 equivale a 41 en base 10\n"
          ]
        }
      ],
      "source": [
        "## Convertir un numero de una base r a su equivalente decimal\n",
        "def numero_int_2_dec(numero:str,base:int):\n",
        "    # inicializo un valor en 0\n",
        "    respuesta_final = 0\n",
        "    numero1 = numero[::-1]  # Lee los numéros desde el final ya que invierte la cadena,\n",
        "    for posicion, digito in enumerate(numero):\n",
        "        valor = int(digito) #Para que se lea como numero entero y no como char\n",
        "        potencia = base ** posicion\n",
        "        resultado = valor * potencia\n",
        "        respuesta_final = respuesta_final + resultado\n",
        "        pass\n",
        "    print(f\"{numero} en base {base} equivale a {respuesta_final} en base 10\")\n",
        "\n",
        "numero_int_2_dec(numero='14', base=10)"
      ]
    },
    {
      "cell_type": "code",
      "execution_count": 152,
      "id": "b528fc80",
      "metadata": {
        "id": "b528fc80",
        "outputId": "21ea4592-b591-4d66-873c-454f1c2bc0d5",
        "colab": {
          "base_uri": "https://localhost:8080/"
        }
      },
      "outputs": [
        {
          "output_type": "stream",
          "name": "stdout",
          "text": [
            "74936\n",
            "749.36 en base 9 equivale a 612.4074074074074 en base 10\n"
          ]
        }
      ],
      "source": [
        "## Convertir un numero con decimales de una base r a su equivalente decimal\n",
        "def numero_2_dec(numero:str,base:int):\n",
        "    # parte hago una nueva cadena\n",
        "    entero = numero.split('.')[0]\n",
        "    fraccion = numero.split('.')[1]\n",
        "    numero_tmp = entero + fraccion\n",
        "    print(numero_tmp)\n",
        "    # inicializo un valor en 0\n",
        "    respuesta_final = 0\n",
        "    #parte entera\n",
        "    for posicion, digito in enumerate(entero[::-1]):\n",
        "        valor = int(digito) #Para que se lea como entero y no como char\n",
        "        potencia = base ** posicion\n",
        "        resultado = valor * potencia\n",
        "        respuesta_final = respuesta_final + resultado\n",
        "        pass\n",
        "    #parte fraccionaria\n",
        "    for posicion, digito in enumerate(fraccion):\n",
        "        valor = int(digito) #Para que se lea como numero entero y no como char\n",
        "        potencia = base **- (posicion+1)\n",
        "        resultado = valor * potencia\n",
        "        respuesta_final = respuesta_final + resultado\n",
        "        pass\n",
        "    print(f\"{numero} en base {base} equivale a {respuesta_final} en base 10\")\n",
        "\n",
        "numero_2_dec(numero='749.36', base=9)"
      ]
    },
    {
      "cell_type": "markdown",
      "source": [
        "# **2.- Construir una función en python que permita convertir un número decimal a binario**"
      ],
      "metadata": {
        "id": "v_cJD0Ecuzjr"
      },
      "id": "v_cJD0Ecuzjr"
    },
    {
      "cell_type": "code",
      "execution_count": 291,
      "id": "ad76cb49",
      "metadata": {
        "id": "ad76cb49",
        "outputId": "0a5db29c-e8d7-4ba9-b256-d7ef42ce9e95",
        "colab": {
          "base_uri": "https://localhost:8080/"
        }
      },
      "outputs": [
        {
          "output_type": "stream",
          "name": "stdout",
          "text": [
            "758 en base 10 equivale a 1011110110 en binario\n"
          ]
        }
      ],
      "source": [
        "# decimal a binario parte entera\n",
        "def decimal2bin_entera(numero: int):\n",
        "    if numero == 0:\n",
        "        print(\"0 en base 10 equivale a 0 en binario\")\n",
        "        return\n",
        "    numeroingresado = numero  # Guardamos el número original\n",
        "    binario = ''       # Se inicia con una cadena vacia\n",
        "\n",
        "    while numero > 0:#Bucle para crear el número binario\n",
        "        residuo = numero % 2\n",
        "        binario = str(residuo) + binario #Agrega el número al inicio\n",
        "        numero = numero // 2\n",
        "\n",
        "    print(f\"{numeroingresado} en base 10 equivale a {binario} en binario\")\n",
        "decimal2bin_entera(758)"
      ]
    },
    {
      "cell_type": "markdown",
      "source": [
        "# **3.- Generalice el programa anterior para convertir de decimal a un sistema con base  r**"
      ],
      "metadata": {
        "id": "L0tQt6T94FUv"
      },
      "id": "L0tQt6T94FUv"
    },
    {
      "cell_type": "code",
      "source": [
        "# decimal a un sitema con base r\n",
        "def decimal_a_base_r(numero: float, base: int, precision: int = 10):\n",
        "    # Digitos posibles hasta base 16\n",
        "    digitos = \"0123456789ABCDEF\"\n",
        "\n",
        "    if base < 2 or base > 16:\n",
        "        print(\"Error! La base solo puede ser entre 2 y 16.\")\n",
        "        return\n",
        "\n",
        "    # Convertir a string para separar parte entera y fracción\n",
        "    numero_str = str(numero)\n",
        "    if '.' in numero_str:\n",
        "        entero = numero_str.split('.')[0]\n",
        "        fraccion = numero_str.split('.')[1]\n",
        "    else:\n",
        "        entero = numero_str\n",
        "        fraccion = ''\n",
        "\n",
        "    # Convertir parte entera\n",
        "    parte_entera = int(entero)\n",
        "    binario_entero = ''\n",
        "    cociente = parte_entera\n",
        "\n",
        "    if cociente == 0:\n",
        "        binario_entero = '0'\n",
        "    else:\n",
        "        while cociente > 0:\n",
        "            residuo = cociente % base\n",
        "            binario_entero = digitos[residuo] + binario_entero\n",
        "            cociente = cociente // base\n",
        "\n",
        "     # Convertir parte fraccionaria\n",
        "    binario_fraccion = ''\n",
        "    if parte_fraccion_str != '':\n",
        "        parte_fraccionaria = float('0.' + parte_fraccion_str)\n",
        "        contador = 0\n",
        "        while parte_fraccionaria > 0 and contador < precision:\n",
        "            parte_fraccionaria = parte_fraccionaria * base\n",
        "            digito_entero = int(parte_fraccionaria)\n",
        "            binario_fraccion = binario_fraccion + digitos[digito_entero]\n",
        "            parte_fraccionaria = parte_fraccionaria - digito_entero\n",
        "            contador = contador + 1\n",
        "\n",
        "    print(f\"{numero} en base 10 equivale a {resultado_final} en base {base}\")\n"
      ],
      "metadata": {
        "id": "3l0t8QoB4EWW"
      },
      "id": "3l0t8QoB4EWW",
      "execution_count": null,
      "outputs": []
    }
  ],
  "metadata": {
    "colab": {
      "provenance": [],
      "include_colab_link": true
    },
    "kernelspec": {
      "display_name": "Python 3 (ipykernel)",
      "language": "python",
      "name": "python3"
    },
    "language_info": {
      "codemirror_mode": {
        "name": "ipython",
        "version": 3
      },
      "file_extension": ".py",
      "mimetype": "text/x-python",
      "name": "python",
      "nbconvert_exporter": "python",
      "pygments_lexer": "ipython3",
      "version": "3.9.23"
    }
  },
  "nbformat": 4,
  "nbformat_minor": 5
}